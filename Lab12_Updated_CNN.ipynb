{
 "cells": [
  {
   "cell_type": "markdown",
   "id": "94951b19",
   "metadata": {},
   "source": [
    "# Lab Task:\n",
    "\n",
    "####  Model: Build and train a custom CNN with the following structure:\n",
    "\n",
    "Conv2D(64 filters, (3×3), ReLU) → BatchNormalization → MaxPooling2D(2×2)\n",
    "\n",
    "Conv2D(128 filters, (3×3), ReLU) → BatchNormalization → MaxPooling2D(2×2)\n",
    "\n",
    "Conv2D(256 filters, (3×3), ReLU) → Dropout(0.3) → MaxPooling2D(2×2)\n",
    "\n",
    "Flatten → Dense(256, ReLU) → Dropout(0.5) → Dense(1, Sigmoid)\n",
    "\n",
    "#### Dataset: Use only two classes:\n",
    "\n",
    "from the last lab tasks\n",
    "\n",
    "#### Compile with: binary_crossentropy loss and adam optimizer.\n",
    "\n",
    "#### Train and evaluate the model."
   ]
  },
  {
   "cell_type": "code",
   "execution_count": 1,
   "id": "e24b2849",
   "metadata": {},
   "outputs": [],
   "source": [
    "from tensorflow.keras import layers\n",
    "from tensorflow.keras import models\n",
    "from tensorflow.keras import optimizers\n",
    "from tensorflow.keras.preprocessing.image import ImageDataGenerator\n",
    "from tensorflow.keras.callbacks import ModelCheckpoint\n",
    "import matplotlib.pyplot as plt\n",
    "import numpy as np\n",
    "from tensorflow.keras.models import load_model\n",
    "from sklearn.metrics import confusion_matrix, ConfusionMatrixDisplay, classification_report\n",
    "import seaborn as sns"
   ]
  },
  {
   "cell_type": "code",
   "execution_count": 2,
   "id": "b233c481",
   "metadata": {},
   "outputs": [],
   "source": [
    "checkpoints = r'C:\\Users\\PMLS\\ML\\lab12\\.ipynb_checkpoints\\E1-cp-{epoch:04d}-loss{val_loss:.2f}.h5'"
   ]
  },
  {
   "cell_type": "code",
   "execution_count": 11,
   "id": "60d7b7fe",
   "metadata": {},
   "outputs": [],
   "source": [
    "train_dir = r'C:\\Users\\PMLS\\ML\\lab12\\New folder\\train'\n",
    "validation_dir = r'C:\\Users\\PMLS\\ML\\lab12\\New folder\\validation'\n",
    "test_dir = r'C:\\Users\\PMLS\\ML\\lab12\\New folder\\test'"
   ]
  },
  {
   "cell_type": "code",
   "execution_count": 19,
   "id": "5b7aa6d8",
   "metadata": {},
   "outputs": [],
   "source": [
    "from keras import models, layers\n",
    "from keras.optimizers import Adam\n",
    "\n",
    "# Build the model\n",
    "model = models.Sequential()\n",
    "\n",
    "# Block 1\n",
    "model.add(layers.Conv2D(64, (3, 3), activation='relu', input_shape=(256, 256, 3)))\n",
    "model.add(layers.BatchNormalization())\n",
    "model.add(layers.MaxPooling2D((2, 2)))\n",
    "\n",
    "# Block 2\n",
    "model.add(layers.Conv2D(128, (3, 3), activation='relu'))\n",
    "model.add(layers.BatchNormalization())\n",
    "model.add(layers.MaxPooling2D((2, 2)))\n",
    "\n",
    "# Block 3\n",
    "model.add(layers.Conv2D(256, (3, 3), activation='relu'))\n",
    "model.add(layers.Dropout(0.3))\n",
    "model.add(layers.MaxPooling2D((2, 2)))\n",
    "\n",
    "# Fully connected layers\n",
    "model.add(layers.Flatten())\n",
    "model.add(layers.Dense(256, activation='relu'))\n",
    "model.add(layers.Dropout(0.5))\n",
    "model.add(layers.Dense(2, activation='softmax'))  # Binary classification\n",
    "\n",
    "# Compile the model\n",
    "model.compile(\n",
    "    loss='binary_crossentropy',\n",
    "    optimizer=Adam(),\n",
    "    metrics=['accuracy']\n",
    ")"
   ]
  },
  {
   "cell_type": "code",
   "execution_count": 20,
   "id": "3eae9c01",
   "metadata": {
    "scrolled": true
   },
   "outputs": [
    {
     "data": {
      "text/html": [
       "<pre style=\"white-space:pre;overflow-x:auto;line-height:normal;font-family:Menlo,'DejaVu Sans Mono',consolas,'Courier New',monospace\"><span style=\"font-weight: bold\">Model: \"sequential_2\"</span>\n",
       "</pre>\n"
      ],
      "text/plain": [
       "\u001b[1mModel: \"sequential_2\"\u001b[0m\n"
      ]
     },
     "metadata": {},
     "output_type": "display_data"
    },
    {
     "data": {
      "text/html": [
       "<pre style=\"white-space:pre;overflow-x:auto;line-height:normal;font-family:Menlo,'DejaVu Sans Mono',consolas,'Courier New',monospace\">┏━━━━━━━━━━━━━━━━━━━━━━━━━━━━━━━━━━━━━━┳━━━━━━━━━━━━━━━━━━━━━━━━━━━━━┳━━━━━━━━━━━━━━━━━┓\n",
       "┃<span style=\"font-weight: bold\"> Layer (type)                         </span>┃<span style=\"font-weight: bold\"> Output Shape                </span>┃<span style=\"font-weight: bold\">         Param # </span>┃\n",
       "┡━━━━━━━━━━━━━━━━━━━━━━━━━━━━━━━━━━━━━━╇━━━━━━━━━━━━━━━━━━━━━━━━━━━━━╇━━━━━━━━━━━━━━━━━┩\n",
       "│ conv2d_6 (<span style=\"color: #0087ff; text-decoration-color: #0087ff\">Conv2D</span>)                    │ (<span style=\"color: #00d7ff; text-decoration-color: #00d7ff\">None</span>, <span style=\"color: #00af00; text-decoration-color: #00af00\">254</span>, <span style=\"color: #00af00; text-decoration-color: #00af00\">254</span>, <span style=\"color: #00af00; text-decoration-color: #00af00\">64</span>)        │           <span style=\"color: #00af00; text-decoration-color: #00af00\">1,792</span> │\n",
       "├──────────────────────────────────────┼─────────────────────────────┼─────────────────┤\n",
       "│ batch_normalization_4                │ (<span style=\"color: #00d7ff; text-decoration-color: #00d7ff\">None</span>, <span style=\"color: #00af00; text-decoration-color: #00af00\">254</span>, <span style=\"color: #00af00; text-decoration-color: #00af00\">254</span>, <span style=\"color: #00af00; text-decoration-color: #00af00\">64</span>)        │             <span style=\"color: #00af00; text-decoration-color: #00af00\">256</span> │\n",
       "│ (<span style=\"color: #0087ff; text-decoration-color: #0087ff\">BatchNormalization</span>)                 │                             │                 │\n",
       "├──────────────────────────────────────┼─────────────────────────────┼─────────────────┤\n",
       "│ max_pooling2d_6 (<span style=\"color: #0087ff; text-decoration-color: #0087ff\">MaxPooling2D</span>)       │ (<span style=\"color: #00d7ff; text-decoration-color: #00d7ff\">None</span>, <span style=\"color: #00af00; text-decoration-color: #00af00\">127</span>, <span style=\"color: #00af00; text-decoration-color: #00af00\">127</span>, <span style=\"color: #00af00; text-decoration-color: #00af00\">64</span>)        │               <span style=\"color: #00af00; text-decoration-color: #00af00\">0</span> │\n",
       "├──────────────────────────────────────┼─────────────────────────────┼─────────────────┤\n",
       "│ conv2d_7 (<span style=\"color: #0087ff; text-decoration-color: #0087ff\">Conv2D</span>)                    │ (<span style=\"color: #00d7ff; text-decoration-color: #00d7ff\">None</span>, <span style=\"color: #00af00; text-decoration-color: #00af00\">125</span>, <span style=\"color: #00af00; text-decoration-color: #00af00\">125</span>, <span style=\"color: #00af00; text-decoration-color: #00af00\">128</span>)       │          <span style=\"color: #00af00; text-decoration-color: #00af00\">73,856</span> │\n",
       "├──────────────────────────────────────┼─────────────────────────────┼─────────────────┤\n",
       "│ batch_normalization_5                │ (<span style=\"color: #00d7ff; text-decoration-color: #00d7ff\">None</span>, <span style=\"color: #00af00; text-decoration-color: #00af00\">125</span>, <span style=\"color: #00af00; text-decoration-color: #00af00\">125</span>, <span style=\"color: #00af00; text-decoration-color: #00af00\">128</span>)       │             <span style=\"color: #00af00; text-decoration-color: #00af00\">512</span> │\n",
       "│ (<span style=\"color: #0087ff; text-decoration-color: #0087ff\">BatchNormalization</span>)                 │                             │                 │\n",
       "├──────────────────────────────────────┼─────────────────────────────┼─────────────────┤\n",
       "│ max_pooling2d_7 (<span style=\"color: #0087ff; text-decoration-color: #0087ff\">MaxPooling2D</span>)       │ (<span style=\"color: #00d7ff; text-decoration-color: #00d7ff\">None</span>, <span style=\"color: #00af00; text-decoration-color: #00af00\">62</span>, <span style=\"color: #00af00; text-decoration-color: #00af00\">62</span>, <span style=\"color: #00af00; text-decoration-color: #00af00\">128</span>)         │               <span style=\"color: #00af00; text-decoration-color: #00af00\">0</span> │\n",
       "├──────────────────────────────────────┼─────────────────────────────┼─────────────────┤\n",
       "│ conv2d_8 (<span style=\"color: #0087ff; text-decoration-color: #0087ff\">Conv2D</span>)                    │ (<span style=\"color: #00d7ff; text-decoration-color: #00d7ff\">None</span>, <span style=\"color: #00af00; text-decoration-color: #00af00\">60</span>, <span style=\"color: #00af00; text-decoration-color: #00af00\">60</span>, <span style=\"color: #00af00; text-decoration-color: #00af00\">256</span>)         │         <span style=\"color: #00af00; text-decoration-color: #00af00\">295,168</span> │\n",
       "├──────────────────────────────────────┼─────────────────────────────┼─────────────────┤\n",
       "│ dropout_4 (<span style=\"color: #0087ff; text-decoration-color: #0087ff\">Dropout</span>)                  │ (<span style=\"color: #00d7ff; text-decoration-color: #00d7ff\">None</span>, <span style=\"color: #00af00; text-decoration-color: #00af00\">60</span>, <span style=\"color: #00af00; text-decoration-color: #00af00\">60</span>, <span style=\"color: #00af00; text-decoration-color: #00af00\">256</span>)         │               <span style=\"color: #00af00; text-decoration-color: #00af00\">0</span> │\n",
       "├──────────────────────────────────────┼─────────────────────────────┼─────────────────┤\n",
       "│ max_pooling2d_8 (<span style=\"color: #0087ff; text-decoration-color: #0087ff\">MaxPooling2D</span>)       │ (<span style=\"color: #00d7ff; text-decoration-color: #00d7ff\">None</span>, <span style=\"color: #00af00; text-decoration-color: #00af00\">30</span>, <span style=\"color: #00af00; text-decoration-color: #00af00\">30</span>, <span style=\"color: #00af00; text-decoration-color: #00af00\">256</span>)         │               <span style=\"color: #00af00; text-decoration-color: #00af00\">0</span> │\n",
       "├──────────────────────────────────────┼─────────────────────────────┼─────────────────┤\n",
       "│ flatten_2 (<span style=\"color: #0087ff; text-decoration-color: #0087ff\">Flatten</span>)                  │ (<span style=\"color: #00d7ff; text-decoration-color: #00d7ff\">None</span>, <span style=\"color: #00af00; text-decoration-color: #00af00\">230400</span>)              │               <span style=\"color: #00af00; text-decoration-color: #00af00\">0</span> │\n",
       "├──────────────────────────────────────┼─────────────────────────────┼─────────────────┤\n",
       "│ dense_4 (<span style=\"color: #0087ff; text-decoration-color: #0087ff\">Dense</span>)                      │ (<span style=\"color: #00d7ff; text-decoration-color: #00d7ff\">None</span>, <span style=\"color: #00af00; text-decoration-color: #00af00\">256</span>)                 │      <span style=\"color: #00af00; text-decoration-color: #00af00\">58,982,656</span> │\n",
       "├──────────────────────────────────────┼─────────────────────────────┼─────────────────┤\n",
       "│ dropout_5 (<span style=\"color: #0087ff; text-decoration-color: #0087ff\">Dropout</span>)                  │ (<span style=\"color: #00d7ff; text-decoration-color: #00d7ff\">None</span>, <span style=\"color: #00af00; text-decoration-color: #00af00\">256</span>)                 │               <span style=\"color: #00af00; text-decoration-color: #00af00\">0</span> │\n",
       "├──────────────────────────────────────┼─────────────────────────────┼─────────────────┤\n",
       "│ dense_5 (<span style=\"color: #0087ff; text-decoration-color: #0087ff\">Dense</span>)                      │ (<span style=\"color: #00d7ff; text-decoration-color: #00d7ff\">None</span>, <span style=\"color: #00af00; text-decoration-color: #00af00\">2</span>)                   │             <span style=\"color: #00af00; text-decoration-color: #00af00\">514</span> │\n",
       "└──────────────────────────────────────┴─────────────────────────────┴─────────────────┘\n",
       "</pre>\n"
      ],
      "text/plain": [
       "┏━━━━━━━━━━━━━━━━━━━━━━━━━━━━━━━━━━━━━━┳━━━━━━━━━━━━━━━━━━━━━━━━━━━━━┳━━━━━━━━━━━━━━━━━┓\n",
       "┃\u001b[1m \u001b[0m\u001b[1mLayer (type)                        \u001b[0m\u001b[1m \u001b[0m┃\u001b[1m \u001b[0m\u001b[1mOutput Shape               \u001b[0m\u001b[1m \u001b[0m┃\u001b[1m \u001b[0m\u001b[1m        Param #\u001b[0m\u001b[1m \u001b[0m┃\n",
       "┡━━━━━━━━━━━━━━━━━━━━━━━━━━━━━━━━━━━━━━╇━━━━━━━━━━━━━━━━━━━━━━━━━━━━━╇━━━━━━━━━━━━━━━━━┩\n",
       "│ conv2d_6 (\u001b[38;5;33mConv2D\u001b[0m)                    │ (\u001b[38;5;45mNone\u001b[0m, \u001b[38;5;34m254\u001b[0m, \u001b[38;5;34m254\u001b[0m, \u001b[38;5;34m64\u001b[0m)        │           \u001b[38;5;34m1,792\u001b[0m │\n",
       "├──────────────────────────────────────┼─────────────────────────────┼─────────────────┤\n",
       "│ batch_normalization_4                │ (\u001b[38;5;45mNone\u001b[0m, \u001b[38;5;34m254\u001b[0m, \u001b[38;5;34m254\u001b[0m, \u001b[38;5;34m64\u001b[0m)        │             \u001b[38;5;34m256\u001b[0m │\n",
       "│ (\u001b[38;5;33mBatchNormalization\u001b[0m)                 │                             │                 │\n",
       "├──────────────────────────────────────┼─────────────────────────────┼─────────────────┤\n",
       "│ max_pooling2d_6 (\u001b[38;5;33mMaxPooling2D\u001b[0m)       │ (\u001b[38;5;45mNone\u001b[0m, \u001b[38;5;34m127\u001b[0m, \u001b[38;5;34m127\u001b[0m, \u001b[38;5;34m64\u001b[0m)        │               \u001b[38;5;34m0\u001b[0m │\n",
       "├──────────────────────────────────────┼─────────────────────────────┼─────────────────┤\n",
       "│ conv2d_7 (\u001b[38;5;33mConv2D\u001b[0m)                    │ (\u001b[38;5;45mNone\u001b[0m, \u001b[38;5;34m125\u001b[0m, \u001b[38;5;34m125\u001b[0m, \u001b[38;5;34m128\u001b[0m)       │          \u001b[38;5;34m73,856\u001b[0m │\n",
       "├──────────────────────────────────────┼─────────────────────────────┼─────────────────┤\n",
       "│ batch_normalization_5                │ (\u001b[38;5;45mNone\u001b[0m, \u001b[38;5;34m125\u001b[0m, \u001b[38;5;34m125\u001b[0m, \u001b[38;5;34m128\u001b[0m)       │             \u001b[38;5;34m512\u001b[0m │\n",
       "│ (\u001b[38;5;33mBatchNormalization\u001b[0m)                 │                             │                 │\n",
       "├──────────────────────────────────────┼─────────────────────────────┼─────────────────┤\n",
       "│ max_pooling2d_7 (\u001b[38;5;33mMaxPooling2D\u001b[0m)       │ (\u001b[38;5;45mNone\u001b[0m, \u001b[38;5;34m62\u001b[0m, \u001b[38;5;34m62\u001b[0m, \u001b[38;5;34m128\u001b[0m)         │               \u001b[38;5;34m0\u001b[0m │\n",
       "├──────────────────────────────────────┼─────────────────────────────┼─────────────────┤\n",
       "│ conv2d_8 (\u001b[38;5;33mConv2D\u001b[0m)                    │ (\u001b[38;5;45mNone\u001b[0m, \u001b[38;5;34m60\u001b[0m, \u001b[38;5;34m60\u001b[0m, \u001b[38;5;34m256\u001b[0m)         │         \u001b[38;5;34m295,168\u001b[0m │\n",
       "├──────────────────────────────────────┼─────────────────────────────┼─────────────────┤\n",
       "│ dropout_4 (\u001b[38;5;33mDropout\u001b[0m)                  │ (\u001b[38;5;45mNone\u001b[0m, \u001b[38;5;34m60\u001b[0m, \u001b[38;5;34m60\u001b[0m, \u001b[38;5;34m256\u001b[0m)         │               \u001b[38;5;34m0\u001b[0m │\n",
       "├──────────────────────────────────────┼─────────────────────────────┼─────────────────┤\n",
       "│ max_pooling2d_8 (\u001b[38;5;33mMaxPooling2D\u001b[0m)       │ (\u001b[38;5;45mNone\u001b[0m, \u001b[38;5;34m30\u001b[0m, \u001b[38;5;34m30\u001b[0m, \u001b[38;5;34m256\u001b[0m)         │               \u001b[38;5;34m0\u001b[0m │\n",
       "├──────────────────────────────────────┼─────────────────────────────┼─────────────────┤\n",
       "│ flatten_2 (\u001b[38;5;33mFlatten\u001b[0m)                  │ (\u001b[38;5;45mNone\u001b[0m, \u001b[38;5;34m230400\u001b[0m)              │               \u001b[38;5;34m0\u001b[0m │\n",
       "├──────────────────────────────────────┼─────────────────────────────┼─────────────────┤\n",
       "│ dense_4 (\u001b[38;5;33mDense\u001b[0m)                      │ (\u001b[38;5;45mNone\u001b[0m, \u001b[38;5;34m256\u001b[0m)                 │      \u001b[38;5;34m58,982,656\u001b[0m │\n",
       "├──────────────────────────────────────┼─────────────────────────────┼─────────────────┤\n",
       "│ dropout_5 (\u001b[38;5;33mDropout\u001b[0m)                  │ (\u001b[38;5;45mNone\u001b[0m, \u001b[38;5;34m256\u001b[0m)                 │               \u001b[38;5;34m0\u001b[0m │\n",
       "├──────────────────────────────────────┼─────────────────────────────┼─────────────────┤\n",
       "│ dense_5 (\u001b[38;5;33mDense\u001b[0m)                      │ (\u001b[38;5;45mNone\u001b[0m, \u001b[38;5;34m2\u001b[0m)                   │             \u001b[38;5;34m514\u001b[0m │\n",
       "└──────────────────────────────────────┴─────────────────────────────┴─────────────────┘\n"
      ]
     },
     "metadata": {},
     "output_type": "display_data"
    },
    {
     "data": {
      "text/html": [
       "<pre style=\"white-space:pre;overflow-x:auto;line-height:normal;font-family:Menlo,'DejaVu Sans Mono',consolas,'Courier New',monospace\"><span style=\"font-weight: bold\"> Total params: </span><span style=\"color: #00af00; text-decoration-color: #00af00\">59,354,754</span> (226.42 MB)\n",
       "</pre>\n"
      ],
      "text/plain": [
       "\u001b[1m Total params: \u001b[0m\u001b[38;5;34m59,354,754\u001b[0m (226.42 MB)\n"
      ]
     },
     "metadata": {},
     "output_type": "display_data"
    },
    {
     "data": {
      "text/html": [
       "<pre style=\"white-space:pre;overflow-x:auto;line-height:normal;font-family:Menlo,'DejaVu Sans Mono',consolas,'Courier New',monospace\"><span style=\"font-weight: bold\"> Trainable params: </span><span style=\"color: #00af00; text-decoration-color: #00af00\">59,354,370</span> (226.42 MB)\n",
       "</pre>\n"
      ],
      "text/plain": [
       "\u001b[1m Trainable params: \u001b[0m\u001b[38;5;34m59,354,370\u001b[0m (226.42 MB)\n"
      ]
     },
     "metadata": {},
     "output_type": "display_data"
    },
    {
     "data": {
      "text/html": [
       "<pre style=\"white-space:pre;overflow-x:auto;line-height:normal;font-family:Menlo,'DejaVu Sans Mono',consolas,'Courier New',monospace\"><span style=\"font-weight: bold\"> Non-trainable params: </span><span style=\"color: #00af00; text-decoration-color: #00af00\">384</span> (1.50 KB)\n",
       "</pre>\n"
      ],
      "text/plain": [
       "\u001b[1m Non-trainable params: \u001b[0m\u001b[38;5;34m384\u001b[0m (1.50 KB)\n"
      ]
     },
     "metadata": {},
     "output_type": "display_data"
    }
   ],
   "source": [
    "model.summary()"
   ]
  },
  {
   "cell_type": "code",
   "execution_count": 21,
   "id": "61c94ac0",
   "metadata": {},
   "outputs": [],
   "source": [
    "model.compile(\n",
    "    loss='categorical_crossentropy',\n",
    "    optimizer=optimizers.RMSprop(learning_rate=1e-4),\n",
    "    metrics=['accuracy']  # use 'accuracy' instead of 'acc' for clarity\n",
    ")"
   ]
  },
  {
   "cell_type": "code",
   "execution_count": 22,
   "id": "5b0fa3b0",
   "metadata": {},
   "outputs": [
    {
     "name": "stdout",
     "output_type": "stream",
     "text": [
      "Found 800 images belonging to 2 classes.\n",
      "Found 126 images belonging to 2 classes.\n"
     ]
    }
   ],
   "source": [
    "train_datagen = ImageDataGenerator(rescale=1./255)\n",
    "test_datagen = ImageDataGenerator(rescale=1./255)\n",
    "train_generator = train_datagen.flow_from_directory(train_dir, target_size=(256, 256), batch_size=32,class_mode='categorical')\n",
    "validation_generator = test_datagen.flow_from_directory(validation_dir,target_size=(256, 256),batch_size=32,class_mode='categorical')"
   ]
  },
  {
   "cell_type": "code",
   "execution_count": 23,
   "id": "3856c510",
   "metadata": {},
   "outputs": [],
   "source": [
    "EpochCheckpoint = ModelCheckpoint(checkpoints,\n",
    "                             monitor=\"val_loss\",\n",
    "                             save_best_only=True, \n",
    "                             verbose=1)\n",
    "callbacks = [EpochCheckpoint]"
   ]
  },
  {
   "cell_type": "code",
   "execution_count": null,
   "id": "6e7facc6",
   "metadata": {
    "scrolled": true
   },
   "outputs": [
    {
     "name": "stdout",
     "output_type": "stream",
     "text": [
      "Epoch 1/20\n",
      "\u001b[1m25/25\u001b[0m \u001b[32m━━━━━━━━━━━━━━━━━━━━\u001b[0m\u001b[37m\u001b[0m \u001b[1m0s\u001b[0m 13s/step - accuracy: 0.5399 - loss: 43.9441  \n",
      "Epoch 1: val_loss improved from inf to 0.69145, saving model to C:\\Users\\PMLS\\ML\\lab12\\.ipynb_checkpoints\\E1-cp-0001-loss0.69.h5\n"
     ]
    },
    {
     "name": "stderr",
     "output_type": "stream",
     "text": [
      "WARNING:absl:You are saving your model as an HDF5 file via `model.save()` or `keras.saving.save_model(model)`. This file format is considered legacy. We recommend using instead the native Keras format, e.g. `model.save('my_model.keras')` or `keras.saving.save_model(model, 'my_model.keras')`. \n"
     ]
    }
   ],
   "source": [
    "step_size_train = train_generator.n//train_generator.batch_size\n",
    "\n",
    "model_history = model.fit(train_generator,\n",
    "                    validation_data =validation_generator,\n",
    "                   steps_per_epoch=step_size_train,\n",
    "                   epochs=20,\n",
    "                    callbacks=callbacks)"
   ]
  },
  {
   "cell_type": "code",
   "execution_count": 10,
   "id": "cee9063c",
   "metadata": {
    "scrolled": true
   },
   "outputs": [
    {
     "data": {
      "text/plain": [
       "{'loss': [0.9118812084197998,\n",
       "  0.512194812297821,\n",
       "  0.43555203080177307,\n",
       "  0.3810323476791382,\n",
       "  0.33200255036354065,\n",
       "  0.3174760639667511,\n",
       "  0.2789996862411499,\n",
       "  0.25931212306022644,\n",
       "  0.24236275255680084,\n",
       "  0.20219598710536957,\n",
       "  0.21021825075149536,\n",
       "  0.17184142768383026,\n",
       "  0.16012126207351685,\n",
       "  0.13878165185451508,\n",
       "  0.14520876109600067,\n",
       "  0.11184189468622208,\n",
       "  0.10543666034936905,\n",
       "  0.10037023574113846,\n",
       "  0.0710180252790451,\n",
       "  0.07944457232952118,\n",
       "  0.06226333975791931,\n",
       "  0.05541699752211571,\n",
       "  0.041760705411434174,\n",
       "  0.06062600016593933,\n",
       "  0.03557387366890907,\n",
       "  0.02798372320830822,\n",
       "  0.030273614451289177,\n",
       "  0.0356283038854599,\n",
       "  0.009177005849778652,\n",
       "  0.02980680949985981,\n",
       "  0.024059126153588295,\n",
       "  0.016912491992115974,\n",
       "  0.046165820211172104,\n",
       "  0.002367708133533597,\n",
       "  0.033314839005470276,\n",
       "  0.02330094389617443,\n",
       "  0.0010328961070626974,\n",
       "  0.04653876647353172,\n",
       "  0.032476164400577545,\n",
       "  0.0019504581578075886,\n",
       "  0.012899048626422882,\n",
       "  0.0014212244423106313,\n",
       "  0.009223413653671741,\n",
       "  0.046049829572439194,\n",
       "  0.0004718002746812999,\n",
       "  0.018162697553634644,\n",
       "  0.007444258779287338,\n",
       "  0.03305186331272125,\n",
       "  0.00021532144455704838,\n",
       "  0.031290385872125626,\n",
       "  0.002434807363897562,\n",
       "  0.0001052720908774063,\n",
       "  0.024443889036774635,\n",
       "  0.00021094320982228965,\n",
       "  4.1778504964895546e-05,\n",
       "  0.020786134526133537,\n",
       "  6.556637526955456e-05,\n",
       "  0.021440815180540085,\n",
       "  6.454007962020114e-05,\n",
       "  2.1614041543216445e-05,\n",
       "  0.04608995094895363,\n",
       "  4.22732591687236e-05,\n",
       "  1.2890926882391796e-05,\n",
       "  0.007306728977710009,\n",
       "  1.8119153537554666e-05,\n",
       "  0.018236728385090828,\n",
       "  9.947020589606836e-05,\n",
       "  1.3084730198897887e-05,\n",
       "  0.015944240614771843,\n",
       "  2.3178907213150524e-05,\n",
       "  0.040859948843717575,\n",
       "  0.00010844664939213544,\n",
       "  1.571143548062537e-05,\n",
       "  0.010511498898267746,\n",
       "  5.4477062803925946e-05,\n",
       "  1.3022979146626312e-05,\n",
       "  0.021998992189764977,\n",
       "  8.156094554578885e-05,\n",
       "  1.1116382665932178e-05,\n",
       "  0.031067822128534317,\n",
       "  0.00025461247423663735,\n",
       "  1.87990881386213e-05,\n",
       "  4.325470854382729e-06,\n",
       "  0.02839670144021511,\n",
       "  1.582007280376274e-05,\n",
       "  0.012135441415011883,\n",
       "  4.779263326781802e-05,\n",
       "  6.946400390006602e-06,\n",
       "  0.04778410121798515,\n",
       "  9.452075573790353e-06,\n",
       "  3.263058033553534e-06,\n",
       "  1.4188641443979577e-06,\n",
       "  7.394621661660494e-07,\n",
       "  0.02902970463037491,\n",
       "  7.343327160924673e-05,\n",
       "  2.850872988346964e-06,\n",
       "  1.1845500011986587e-06,\n",
       "  0.011605685576796532,\n",
       "  1.14791801024694e-05,\n",
       "  2.085581400024239e-06],\n",
       " 'acc': [0.5899999737739563,\n",
       "  0.784375011920929,\n",
       "  0.809374988079071,\n",
       "  0.8193749785423279,\n",
       "  0.8531249761581421,\n",
       "  0.8637499809265137,\n",
       "  0.8737499713897705,\n",
       "  0.8868749737739563,\n",
       "  0.8912500143051147,\n",
       "  0.9081249833106995,\n",
       "  0.9143750071525574,\n",
       "  0.9331250190734863,\n",
       "  0.9387500286102295,\n",
       "  0.9431250095367432,\n",
       "  0.9449999928474426,\n",
       "  0.9593750238418579,\n",
       "  0.9599999785423279,\n",
       "  0.9674999713897705,\n",
       "  0.9743750095367432,\n",
       "  0.9674999713897705,\n",
       "  0.9762499928474426,\n",
       "  0.9818750023841858,\n",
       "  0.9893749952316284,\n",
       "  0.9887499809265137,\n",
       "  0.9893749952316284,\n",
       "  0.9912499785423279,\n",
       "  0.9918749928474426,\n",
       "  0.9887499809265137,\n",
       "  0.9987499713897705,\n",
       "  0.9918749928474426,\n",
       "  0.9918749928474426,\n",
       "  0.9956250190734863,\n",
       "  0.9925000071525574,\n",
       "  1.0,\n",
       "  0.9937499761581421,\n",
       "  0.9918749928474426,\n",
       "  1.0,\n",
       "  0.9912499785423279,\n",
       "  0.9912499785423279,\n",
       "  1.0,\n",
       "  0.9956250190734863,\n",
       "  0.9993749856948853,\n",
       "  0.996874988079071,\n",
       "  0.9925000071525574,\n",
       "  1.0,\n",
       "  0.996874988079071,\n",
       "  0.9987499713897705,\n",
       "  0.9931250214576721,\n",
       "  1.0,\n",
       "  0.9950000047683716,\n",
       "  0.9987499713897705,\n",
       "  1.0,\n",
       "  0.9925000071525574,\n",
       "  1.0,\n",
       "  1.0,\n",
       "  0.996874988079071,\n",
       "  1.0,\n",
       "  0.9956250190734863,\n",
       "  1.0,\n",
       "  1.0,\n",
       "  0.9918749928474426,\n",
       "  1.0,\n",
       "  1.0,\n",
       "  0.9981250166893005,\n",
       "  1.0,\n",
       "  0.9956250190734863,\n",
       "  1.0,\n",
       "  1.0,\n",
       "  0.996874988079071,\n",
       "  1.0,\n",
       "  0.9956250190734863,\n",
       "  1.0,\n",
       "  1.0,\n",
       "  0.9956250190734863,\n",
       "  1.0,\n",
       "  1.0,\n",
       "  0.9950000047683716,\n",
       "  1.0,\n",
       "  1.0,\n",
       "  0.9918749928474426,\n",
       "  1.0,\n",
       "  1.0,\n",
       "  1.0,\n",
       "  0.9956250190734863,\n",
       "  1.0,\n",
       "  0.996874988079071,\n",
       "  1.0,\n",
       "  1.0,\n",
       "  0.9950000047683716,\n",
       "  1.0,\n",
       "  1.0,\n",
       "  1.0,\n",
       "  1.0,\n",
       "  0.9962499737739563,\n",
       "  1.0,\n",
       "  1.0,\n",
       "  1.0,\n",
       "  0.9981250166893005,\n",
       "  1.0,\n",
       "  1.0],\n",
       " 'val_loss': [0.6201314926147461,\n",
       "  0.49123746156692505,\n",
       "  1.0152307748794556,\n",
       "  0.35178980231285095,\n",
       "  0.3136219084262848,\n",
       "  0.28957346081733704,\n",
       "  0.362875372171402,\n",
       "  0.4561673402786255,\n",
       "  0.24560457468032837,\n",
       "  0.2384309023618698,\n",
       "  0.23898786306381226,\n",
       "  0.21394893527030945,\n",
       "  0.6030170321464539,\n",
       "  0.21721151471138,\n",
       "  0.23299920558929443,\n",
       "  0.22229376435279846,\n",
       "  0.24927647411823273,\n",
       "  0.22650009393692017,\n",
       "  0.224945530295372,\n",
       "  0.22756646573543549,\n",
       "  0.23509779572486877,\n",
       "  0.22882641851902008,\n",
       "  0.2680254876613617,\n",
       "  0.5297766923904419,\n",
       "  0.3741495907306671,\n",
       "  0.31654712557792664,\n",
       "  0.2988832890987396,\n",
       "  0.30499014258384705,\n",
       "  0.3551938533782959,\n",
       "  0.3645763099193573,\n",
       "  0.3387778103351593,\n",
       "  0.3639651834964752,\n",
       "  0.35961803793907166,\n",
       "  0.42757949233055115,\n",
       "  0.381346195936203,\n",
       "  0.38561853766441345,\n",
       "  0.4087487757205963,\n",
       "  0.394918829202652,\n",
       "  0.4800591468811035,\n",
       "  0.484844833612442,\n",
       "  0.47630730271339417,\n",
       "  0.524649977684021,\n",
       "  0.4869976341724396,\n",
       "  0.59635990858078,\n",
       "  0.5214405655860901,\n",
       "  0.752378523349762,\n",
       "  0.49425506591796875,\n",
       "  0.5422050952911377,\n",
       "  0.5172922611236572,\n",
       "  0.5851672887802124,\n",
       "  0.49898773431777954,\n",
       "  0.5488204956054688,\n",
       "  0.591792106628418,\n",
       "  0.6127633452415466,\n",
       "  0.652503252029419,\n",
       "  0.5909403562545776,\n",
       "  0.5962030291557312,\n",
       "  0.5503113865852356,\n",
       "  0.6116432547569275,\n",
       "  0.6904286742210388,\n",
       "  0.6873786449432373,\n",
       "  0.6590443253517151,\n",
       "  0.6988986730575562,\n",
       "  0.6112861037254333,\n",
       "  0.6581594347953796,\n",
       "  0.8117100596427917,\n",
       "  0.6634910106658936,\n",
       "  0.7028139233589172,\n",
       "  0.7464559078216553,\n",
       "  0.6938585638999939,\n",
       "  0.6874173879623413,\n",
       "  0.6619776487350464,\n",
       "  0.6896172165870667,\n",
       "  0.7044119238853455,\n",
       "  0.6963030695915222,\n",
       "  0.7094740271568298,\n",
       "  0.7664592266082764,\n",
       "  0.7525039315223694,\n",
       "  0.7318781018257141,\n",
       "  0.7049211859703064,\n",
       "  0.6906829476356506,\n",
       "  0.7072972655296326,\n",
       "  0.7716624736785889,\n",
       "  0.7933698892593384,\n",
       "  0.7859764695167542,\n",
       "  0.6736761331558228,\n",
       "  0.7716584205627441,\n",
       "  0.7850878834724426,\n",
       "  0.8263203501701355,\n",
       "  0.7902804017066956,\n",
       "  0.7733479738235474,\n",
       "  0.7741546034812927,\n",
       "  0.9153866767883301,\n",
       "  0.8506108522415161,\n",
       "  0.7797563672065735,\n",
       "  0.8014703392982483,\n",
       "  0.8200539350509644,\n",
       "  0.8565791249275208,\n",
       "  0.781998872756958,\n",
       "  0.7978014349937439],\n",
       " 'val_acc': [0.6904761791229248,\n",
       "  0.7103174328804016,\n",
       "  0.579365074634552,\n",
       "  0.7976190447807312,\n",
       "  0.8253968358039856,\n",
       "  0.8253968358039856,\n",
       "  0.829365074634552,\n",
       "  0.7976190447807312,\n",
       "  0.8888888955116272,\n",
       "  0.8928571343421936,\n",
       "  0.89682537317276,\n",
       "  0.9047619104385376,\n",
       "  0.8095238208770752,\n",
       "  0.9047619104385376,\n",
       "  0.9047619104385376,\n",
       "  0.908730149269104,\n",
       "  0.9007936716079712,\n",
       "  0.908730149269104,\n",
       "  0.9166666865348816,\n",
       "  0.9166666865348816,\n",
       "  0.920634925365448,\n",
       "  0.920634925365448,\n",
       "  0.9126983880996704,\n",
       "  0.8650793433189392,\n",
       "  0.8928571343421936,\n",
       "  0.9126983880996704,\n",
       "  0.9166666865348816,\n",
       "  0.9246031641960144,\n",
       "  0.9126983880996704,\n",
       "  0.9126983880996704,\n",
       "  0.9285714030265808,\n",
       "  0.920634925365448,\n",
       "  0.9246031641960144,\n",
       "  0.9246031641960144,\n",
       "  0.920634925365448,\n",
       "  0.9126983880996704,\n",
       "  0.920634925365448,\n",
       "  0.9246031641960144,\n",
       "  0.9246031641960144,\n",
       "  0.920634925365448,\n",
       "  0.9246031641960144,\n",
       "  0.9166666865348816,\n",
       "  0.920634925365448,\n",
       "  0.9126983880996704,\n",
       "  0.920634925365448,\n",
       "  0.8730158805847168,\n",
       "  0.920634925365448,\n",
       "  0.9285714030265808,\n",
       "  0.9166666865348816,\n",
       "  0.8888888955116272,\n",
       "  0.920634925365448,\n",
       "  0.932539701461792,\n",
       "  0.9166666865348816,\n",
       "  0.9285714030265808,\n",
       "  0.9166666865348816,\n",
       "  0.9126983880996704,\n",
       "  0.920634925365448,\n",
       "  0.920634925365448,\n",
       "  0.9166666865348816,\n",
       "  0.9126983880996704,\n",
       "  0.932539701461792,\n",
       "  0.9246031641960144,\n",
       "  0.9126983880996704,\n",
       "  0.9166666865348816,\n",
       "  0.9166666865348816,\n",
       "  0.9047619104385376,\n",
       "  0.908730149269104,\n",
       "  0.9126983880996704,\n",
       "  0.9126983880996704,\n",
       "  0.9166666865348816,\n",
       "  0.908730149269104,\n",
       "  0.9126983880996704,\n",
       "  0.908730149269104,\n",
       "  0.9166666865348816,\n",
       "  0.9126983880996704,\n",
       "  0.9126983880996704,\n",
       "  0.9126983880996704,\n",
       "  0.9126983880996704,\n",
       "  0.920634925365448,\n",
       "  0.9166666865348816,\n",
       "  0.9166666865348816,\n",
       "  0.9166666865348816,\n",
       "  0.9166666865348816,\n",
       "  0.9126983880996704,\n",
       "  0.9166666865348816,\n",
       "  0.9166666865348816,\n",
       "  0.9126983880996704,\n",
       "  0.9166666865348816,\n",
       "  0.920634925365448,\n",
       "  0.9166666865348816,\n",
       "  0.920634925365448,\n",
       "  0.9285714030265808,\n",
       "  0.908730149269104,\n",
       "  0.89682537317276,\n",
       "  0.9166666865348816,\n",
       "  0.9126983880996704,\n",
       "  0.9126983880996704,\n",
       "  0.9007936716079712,\n",
       "  0.908730149269104,\n",
       "  0.908730149269104]}"
      ]
     },
     "execution_count": 10,
     "metadata": {},
     "output_type": "execute_result"
    }
   ],
   "source": [
    "model_history.history"
   ]
  },
  {
   "cell_type": "code",
   "execution_count": 11,
   "id": "4f4adc54",
   "metadata": {},
   "outputs": [
    {
     "data": {
      "image/png": "[encoded data removed]",
      "text/plain": [
       "<Figure size 640x480 with 1 Axes>"
      ]
     },
     "metadata": {},
     "output_type": "display_data"
    },
    {
     "data": {
      "image/png": "[encoded data removed]",
      "text/plain": [
       "<Figure size 640x480 with 1 Axes>"
      ]
     },
     "metadata": {},
     "output_type": "display_data"
    },
    {
     "data": {
      "text/plain": [
       "<Figure size 640x480 with 0 Axes>"
      ]
     },
     "metadata": {},
     "output_type": "display_data"
    }
   ],
   "source": [
    "acc = model_history.history['acc']\n",
    "val_acc = model_history.history['val_acc']\n",
    "loss = model_history.history['loss']\n",
    "val_loss = model_history.history['val_loss']\n",
    "epochs = range(1, len(acc) + 1)\n",
    "plt.plot(epochs, acc, 'bo', label='Training acc')\n",
    "plt.plot(epochs, val_acc, 'b', label='Validation acc')\n",
    "plt.title('Training and validation accuracy')\n",
    "plt.legend()\n",
    "plt.figure()\n",
    "plt.plot(epochs, loss, 'bo', label='Training loss')\n",
    "plt.plot(epochs, val_loss, 'b', label='Validation loss')\n",
    "plt.title('Training and validation loss')\n",
    "plt.legend()\n",
    "plt.show()\n",
    "plt.savefig(r'C:\\Users\\Administrator\\Downloads\\ML Lab\\Computer vision\\lab11\\model_Accuracy.png')"
   ]
  },
  {
   "cell_type": "code",
   "execution_count": 12,
   "id": "a86bdbe0",
   "metadata": {},
   "outputs": [],
   "source": [
    "model.save(r'C:\\Users\\Administrator\\Downloads\\ML Lab\\Computer vision\\lab12\\E1-cp-0012-loss0.21.h5')"
   ]
  },
  {
   "cell_type": "code",
   "execution_count": 14,
   "id": "e5b8f205",
   "metadata": {},
   "outputs": [
    {
     "name": "stdout",
     "output_type": "stream",
     "text": [
      "Found 200 images belonging to 4 classes.\n",
      "7/7 [==============================] - 2s 242ms/step\n"
     ]
    },
    {
     "data": {
      "image/png": "[encoded data removed]",
      "text/plain": [
       "<Figure size 640x480 with 2 Axes>"
      ]
     },
     "metadata": {},
     "output_type": "display_data"
    }
   ],
   "source": [
    "#model = load_model(r'C:\\Users\\Administrator\\Downloads\\ML Lab\\Computer vision\\lab11\\model_lab11.h5')\n",
    "test_datagen = ImageDataGenerator(rescale=1./255)\n",
    "test_generator = test_datagen.flow_from_directory(test_dir, target_size=(256, 256), batch_size=32, shuffle=False, class_mode='categorical')\n",
    "label=test_generator.labels\n",
    "preds=model.predict(test_generator)\n",
    "pred = np.argmax(preds, axis = 1)\n",
    "cm = confusion_matrix(label, pred)\n",
    "disp = ConfusionMatrixDisplay(confusion_matrix=cm,  display_labels=['Cercospora', 'common_rust','healthy', 'leaf_blight'])\n",
    "disp.plot()\n",
    "plt.show()\n",
    "#plt.savefig(r'C:\\Users\\Administrator\\Downloads\\ML Lab\\Computer vision\\lab11\\confusion_matrics.jpg')"
   ]
  },
  {
   "cell_type": "code",
   "execution_count": 15,
   "id": "e234f9a6",
   "metadata": {},
   "outputs": [
    {
     "name": "stdout",
     "output_type": "stream",
     "text": [
      "              precision    recall  f1-score   support\n",
      "\n",
      "  Cercospora       0.89      0.80      0.84        50\n",
      " common_rust       1.00      0.98      0.99        50\n",
      "     healthy       0.96      1.00      0.98        50\n",
      " leaf_blight       0.83      0.90      0.87        50\n",
      "\n",
      "    accuracy                           0.92       200\n",
      "   macro avg       0.92      0.92      0.92       200\n",
      "weighted avg       0.92      0.92      0.92       200\n",
      "\n"
     ]
    }
   ],
   "source": [
    "print(classification_report(label, pred, target_names=['Cercospora', 'common_rust','healthy', 'leaf_blight']))"
   ]
  },
  {
   "cell_type": "code",
   "execution_count": null,
   "id": "52f0882d",
   "metadata": {},
   "outputs": [],
   "source": []
  },
  {
   "cell_type": "code",
   "execution_count": null,
   "id": "5be64dda",
   "metadata": {},
   "outputs": [],
   "source": []
  },
  {
   "cell_type": "code",
   "execution_count": null,
   "id": "b853b131",
   "metadata": {},
   "outputs": [],
   "source": []
  }
 ],
 "metadata": {
  "kernelspec": {
   "display_name": "Python 3 (ipykernel)",
   "language": "python",
   "name": "python3"
  },
  "language_info": {
   "codemirror_mode": {
    "name": "ipython",
    "version": 3
   },
   "file_extension": ".py",
   "mimetype": "text/x-python",
   "name": "python",
   "nbconvert_exporter": "python",
   "pygments_lexer": "ipython3",
   "version": "3.10.16"
  }
 },
 "nbformat": 4,
 "nbformat_minor": 5
}
